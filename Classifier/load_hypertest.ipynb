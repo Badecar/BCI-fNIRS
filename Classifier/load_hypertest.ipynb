{
 "cells": [
  {
   "cell_type": "code",
   "execution_count": 1,
   "metadata": {},
   "outputs": [
    {
     "ename": "NameError",
     "evalue": "name '__file__' is not defined",
     "output_type": "error",
     "traceback": [
      "\u001b[1;31m---------------------------------------------------------------------------\u001b[0m",
      "\u001b[1;31mNameError\u001b[0m                                 Traceback (most recent call last)",
      "Cell \u001b[1;32mIn[1], line 6\u001b[0m\n\u001b[0;32m      3\u001b[0m \u001b[38;5;28;01mimport\u001b[39;00m \u001b[38;5;21;01mnumpy\u001b[39;00m \u001b[38;5;28;01mas\u001b[39;00m \u001b[38;5;21;01mnp\u001b[39;00m\n\u001b[0;32m      5\u001b[0m \u001b[38;5;66;03m# Define the CSV file path relative to this script.\u001b[39;00m\n\u001b[1;32m----> 6\u001b[0m csv_filepath \u001b[38;5;241m=\u001b[39m os\u001b[38;5;241m.\u001b[39mpath\u001b[38;5;241m.\u001b[39mjoin(os\u001b[38;5;241m.\u001b[39mpath\u001b[38;5;241m.\u001b[39mdirname(\u001b[38;5;18;43m__file__\u001b[39;49m), \u001b[38;5;124m\"\u001b[39m\u001b[38;5;124mClassifier\u001b[39m\u001b[38;5;124m\"\u001b[39m, \u001b[38;5;124m\"\u001b[39m\u001b[38;5;124mhyper_results.csv\u001b[39m\u001b[38;5;124m\"\u001b[39m)\n\u001b[0;32m      8\u001b[0m \u001b[38;5;28;01mif\u001b[39;00m \u001b[38;5;129;01mnot\u001b[39;00m os\u001b[38;5;241m.\u001b[39mpath\u001b[38;5;241m.\u001b[39mexists(csv_filepath):\n\u001b[0;32m      9\u001b[0m     \u001b[38;5;28mprint\u001b[39m(\u001b[38;5;124mf\u001b[39m\u001b[38;5;124m\"\u001b[39m\u001b[38;5;124mCSV file not found at: \u001b[39m\u001b[38;5;132;01m{\u001b[39;00mcsv_filepath\u001b[38;5;132;01m}\u001b[39;00m\u001b[38;5;124m\"\u001b[39m)\n",
      "\u001b[1;31mNameError\u001b[0m: name '__file__' is not defined"
     ]
    }
   ],
   "source": [
    "import os\n",
    "import pandas as pd\n",
    "import numpy as np\n",
    "\n",
    "# Define the CSV file path relative to this script.\n",
    "csv_filepath = os.path.join(os.path.dirname(__file__), \"Classifier\", \"hyper_results.csv\")\n",
    "\n",
    "if not os.path.exists(csv_filepath):\n",
    "    print(f\"CSV file not found at: {csv_filepath}\")\n",
    "    exit(1)\n",
    "\n",
    "# Load CSV file\n",
    "df = pd.read_csv(csv_filepath)\n",
    "print(f\"Loaded {len(df)} experiment results from: {csv_filepath}\")\n",
    "\n",
    "# ------------------------------\n",
    "# Aggregation and reporting\n",
    "# ------------------------------\n",
    "# Average results over seeds for identical hyperparameter settings (excluding 'seed')\n",
    "group_cols = ['test_idx', 'hbr_multiplier', 'hbr_shift', 'window_length', 'add_hbr']\n",
    "grouped = df.groupby(group_cols)['accuracy'].mean().reset_index()\n",
    "grouped.rename(columns={'accuracy': 'avg_accuracy'}, inplace=True)\n",
    "\n",
    "# Sort to get top 5 hyperparameter configurations (by average accuracy)\n",
    "sorted_results = grouped.sort_values(by='avg_accuracy', ascending=False)\n",
    "top_5 = sorted_results.head(5)\n",
    "\n",
    "print(\"\\nTop 5 hyperparameter configurations (averaged over seeds):\")\n",
    "for index, row in top_5.iterrows():\n",
    "    print(f\"test_idx={row['test_idx']}, hbr_multiplier={row['hbr_multiplier']}, \" +\n",
    "          f\"hbr_shift={row['hbr_shift']}, window_length={row['window_length']}, \" +\n",
    "          f\"add_hbr={row['add_hbr']} -> Average Val Accuracy: {row['avg_accuracy']*100:.2f}%\")\n",
    "\n",
    "# Determine which test_idx has the highest overall average validation accuracy\n",
    "test_idx_groups = df.groupby('test_idx')['accuracy'].mean()\n",
    "best_test_idx = test_idx_groups.idxmax()\n",
    "best_test_idx_accuracy = test_idx_groups.loc[best_test_idx]\n",
    "print(f\"\\nTest subject index with highest average validation accuracy: {best_test_idx} \" +\n",
    "      f\"(Average Accuracy: {best_test_idx_accuracy*100:.2f}%)\")\n",
    "\n",
    "# Full summary of aggregated results\n",
    "print(\"\\nFull aggregated results (each row corresponds to one hyperparameter configuration):\")\n",
    "print(grouped.to_string(index=False))"
   ]
  }
 ],
 "metadata": {
  "kernelspec": {
   "display_name": "myenv",
   "language": "python",
   "name": "python3"
  },
  "language_info": {
   "codemirror_mode": {
    "name": "ipython",
    "version": 3
   },
   "file_extension": ".py",
   "mimetype": "text/x-python",
   "name": "python",
   "nbconvert_exporter": "python",
   "pygments_lexer": "ipython3",
   "version": "3.12.7"
  }
 },
 "nbformat": 4,
 "nbformat_minor": 2
}
