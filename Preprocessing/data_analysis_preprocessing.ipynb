{
 "cells": [
  {
   "cell_type": "code",
   "execution_count": 15,
   "id": "4535db07",
   "metadata": {},
   "outputs": [],
   "source": [
    "from preprocessing_mne import *\n",
    "import matplotlib.pyplot as plt\n",
    "import numpy as np"
   ]
  },
  {
   "cell_type": "code",
   "execution_count": 16,
   "id": "c01ca847",
   "metadata": {},
   "outputs": [],
   "source": [
    "SUBJECT = 2\n",
    "tmin = -5\n",
    "tmax = 15"
   ]
  },
  {
   "cell_type": "code",
   "execution_count": 17,
   "id": "164389eb",
   "metadata": {},
   "outputs": [
    {
     "name": "stdout",
     "output_type": "stream",
     "text": [
      "Reading 0 ... 18874  =      0.000 ...  2415.872 secs...\n",
      "Not setting metadata\n",
      "90 matching events found\n",
      "Setting baseline interval to [-4.992, 0.0] s\n",
      "Applying baseline correction (mode: mean)\n",
      "0 projection items activated\n",
      "Using data from preloaded Raw for 90 events and 157 original time points ...\n",
      "    Rejecting  epoch based on HBO : ['S7_D7 hbo']\n",
      "    Rejecting  epoch based on HBO : ['S2_D1 hbo']\n",
      "    Rejecting  epoch based on HBO : ['S7_D7 hbo']\n",
      "    Rejecting  epoch based on HBO : ['S3_D2 hbo']\n",
      "    Rejecting  epoch based on HBO : ['S2_D1 hbo', 'S7_D7 hbo']\n",
      "    Rejecting  epoch based on HBO : ['S2_D1 hbo']\n",
      "    Rejecting  epoch based on HBO : ['S2_D1 hbo']\n",
      "    Rejecting  epoch based on HBO : ['S2_D1 hbo']\n",
      "    Rejecting  epoch based on HBO : ['S7_D7 hbo']\n",
      "    Rejecting  epoch based on HBO : ['S7_D7 hbo']\n",
      "    Rejecting  epoch based on HBO : ['S2_D1 hbo']\n",
      "    Rejecting  epoch based on HBO : ['S2_D1 hbo']\n",
      "    Rejecting  epoch based on HBO : ['S7_D7 hbo']\n",
      "    Rejecting  epoch based on HBO : ['S7_D7 hbo']\n",
      "    Rejecting  epoch based on HBO : ['S7_D7 hbo']\n",
      "    Rejecting  epoch based on HBO : ['S3_D2 hbo', 'S7_D7 hbo']\n",
      "16 bad epochs dropped\n"
     ]
    }
   ],
   "source": [
    "raw_intensity = load_raw_data(SUBJECT, force_download=False)\n",
    "raw_haemo = preprocess_raw_data(raw_intensity)\n",
    "epochs = extract_epochs(raw_haemo, tmin, tmax, verbose=True)"
   ]
  },
  {
   "cell_type": "code",
   "execution_count": 18,
   "id": "5b9eab54",
   "metadata": {},
   "outputs": [
    {
     "name": "stdout",
     "output_type": "stream",
     "text": [
      "Reading 0 ... 18874  =      0.000 ...  2415.872 secs...\n"
     ]
    }
   ],
   "source": [
    "picks = mne.pick_types(raw_intensity.info, meg=False, fnirs=True)\n",
    "dists = mne.preprocessing.nirs.source_detector_distances(raw_intensity.info, picks=picks)\n",
    "raw_intensity.pick(picks[dists > 0.01])\n",
    "\n",
    "# Convert raw intensity to optical density\n",
    "raw_od = mne.preprocessing.nirs.optical_density(raw_intensity)"
   ]
  },
  {
   "cell_type": "code",
   "execution_count": 19,
   "id": "51db73c2",
   "metadata": {},
   "outputs": [
    {
     "data": {
      "image/png": "[encoded data removed]",
      "text/plain": [
       "<Figure size 600x400 with 1 Axes>"
      ]
     },
     "metadata": {},
     "output_type": "display_data"
    }
   ],
   "source": [
    "# One time-series plot per channel laid out in the topographic map\n",
    "# visualizing blue and green HbO response on the left and right side of the brain respectively\n",
    "\n",
    "fig, ax = plt.subplots(figsize=(6, 4))\n",
    "\n",
    "evokeds = [\n",
    "    epochs[\"Tapping_Left\"].average(picks=\"hbo\"),\n",
    "    epochs[\"Tapping_Right\"].average(picks=\"hbo\")\n",
    "]\n",
    "colors = [\"b\", \"r\"]\n",
    "\n",
    "mne.viz.plot_evoked_topo(\n",
    "    evokeds,\n",
    "    color=colors,\n",
    "    axes=ax,\n",
    "    legend=True,\n",
    ")\n",
    "plt.show()\n"
   ]
  },
  {
   "cell_type": "code",
   "execution_count": 20,
   "id": "f684d269",
   "metadata": {},
   "outputs": [
    {
     "name": "stdout",
     "output_type": "stream",
     "text": [
      "Channel 0: S1_D1 760 | Side: left | Signal type: unknown\n",
      "Channel 1: S1_D1 850 | Side: left | Signal type: unknown\n",
      "Channel 2: S1_D2 760 | Side: left | Signal type: unknown\n",
      "Channel 3: S1_D2 850 | Side: left | Signal type: unknown\n",
      "Channel 4: S1_D3 760 | Side: left | Signal type: unknown\n",
      "Channel 5: S1_D3 850 | Side: left | Signal type: unknown\n",
      "Channel 6: S2_D1 760 | Side: left | Signal type: unknown\n",
      "Channel 7: S2_D1 850 | Side: left | Signal type: unknown\n",
      "Channel 8: S2_D3 760 | Side: left | Signal type: unknown\n",
      "Channel 9: S2_D3 850 | Side: left | Signal type: unknown\n",
      "Channel 10: S2_D4 760 | Side: left | Signal type: unknown\n",
      "Channel 11: S2_D4 850 | Side: left | Signal type: unknown\n",
      "Channel 12: S3_D2 760 | Side: left | Signal type: unknown\n",
      "Channel 13: S3_D2 850 | Side: left | Signal type: unknown\n",
      "Channel 14: S3_D3 760 | Side: left | Signal type: unknown\n",
      "Channel 15: S3_D3 850 | Side: left | Signal type: unknown\n",
      "Channel 16: S4_D3 760 | Side: left | Signal type: unknown\n",
      "Channel 17: S4_D3 850 | Side: left | Signal type: unknown\n",
      "Channel 18: S4_D4 760 | Side: left | Signal type: unknown\n",
      "Channel 19: S4_D4 850 | Side: left | Signal type: unknown\n",
      "Channel 20: S5_D5 760 | Side: right | Signal type: unknown\n",
      "Channel 21: S5_D5 850 | Side: right | Signal type: unknown\n",
      "Channel 22: S5_D6 760 | Side: right | Signal type: unknown\n",
      "Channel 23: S5_D6 850 | Side: right | Signal type: unknown\n",
      "Channel 24: S5_D7 760 | Side: right | Signal type: unknown\n",
      "Channel 25: S5_D7 850 | Side: right | Signal type: unknown\n",
      "Channel 26: S6_D5 760 | Side: right | Signal type: unknown\n",
      "Channel 27: S6_D5 850 | Side: right | Signal type: unknown\n",
      "Channel 28: S6_D7 760 | Side: right | Signal type: unknown\n",
      "Channel 29: S6_D7 850 | Side: right | Signal type: unknown\n",
      "Channel 30: S6_D8 760 | Side: right | Signal type: unknown\n",
      "Channel 31: S6_D8 850 | Side: right | Signal type: unknown\n",
      "Channel 32: S7_D6 760 | Side: right | Signal type: unknown\n",
      "Channel 33: S7_D6 850 | Side: right | Signal type: unknown\n",
      "Channel 34: S7_D7 760 | Side: right | Signal type: unknown\n",
      "Channel 35: S7_D7 850 | Side: right | Signal type: unknown\n",
      "Channel 36: S8_D7 760 | Side: right | Signal type: unknown\n",
      "Channel 37: S8_D7 850 | Side: right | Signal type: unknown\n",
      "Channel 38: S8_D8 760 | Side: right | Signal type: unknown\n",
      "Channel 39: S8_D8 850 | Side: right | Signal type: unknown\n"
     ]
    }
   ],
   "source": [
    "# Loop through the channels in raw_od.info['chs'].\n",
    "for idx, ch in enumerate(raw_od.info[\"chs\"]):\n",
    "    name = ch[\"ch_name\"]\n",
    "    loc = ch.get(\"loc\")\n",
    "\n",
    "    # Check if location data is available (first three values are the x, y, z coordinates)\n",
    "    if loc is None or np.all(np.array(loc[:3]) == 0):\n",
    "        side = \"unknown (no location data)\"\n",
    "    else:\n",
    "        x = loc[0]\n",
    "        # print(f\"Channel {ch['ch_name']} location: x={x}, y={loc[1]}, z={loc[2]}\")\n",
    "        # Convention: negative x -> left, positive x -> right, zero -> center\n",
    "        if x < 0:\n",
    "            side = \"left\"\n",
    "        elif x > 0:\n",
    "            side = \"right\"\n",
    "        else:\n",
    "            side = \"center\"\n",
    "\n",
    "    # Determine the signal type from the channel name (case-insensitive)\n",
    "    if \"hbo\" in name.lower():\n",
    "        signal_type = \"hbo\"\n",
    "    elif \"hbr\" in name.lower():\n",
    "        signal_type = \"hbr\"\n",
    "    else:\n",
    "        signal_type = \"unknown\"\n",
    "\n",
    "    print(f\"Channel {idx}: {name} | Side: {side} | Signal type: {signal_type}\")"
   ]
  }
 ],
 "metadata": {
  "kernelspec": {
   "display_name": "myenv",
   "language": "python",
   "name": "python3"
  },
  "language_info": {
   "codemirror_mode": {
    "name": "ipython",
    "version": 3
   },
   "file_extension": ".py",
   "mimetype": "text/x-python",
   "name": "python",
   "nbconvert_exporter": "python",
   "pygments_lexer": "ipython3",
   "version": "3.10.16"
  }
 },
 "nbformat": 4,
 "nbformat_minor": 5
}
