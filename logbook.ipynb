{
 "cells": [
  {
   "cell_type": "markdown",
   "metadata": {},
   "source": [
    "### Date: 10/03/2025\n",
    "\n",
    "#### *Setting up initial preprocessing and data loading*\n",
    "\n",
    "##### Questions for Tobias:\n",
    "\n",
    "- When can we expect data from coma patients? And are we supposed to train only on publically available data until then?\n",
    "\n",
    "- In which format do we recieve the final data? Is it feasable to use MNE with it?\n",
    "\n",
    "- Oscar: What is meant by clustering in practice?\n",
    "\n",
    "- What is the final goal? To make a good model or preprocessing pipeline that we can pass on or just define which areas of the body are best at classification?\n",
    "\n",
    "\n",
    "##### Goals for next time:\n",
    "\n",
    "- Create a more generalized preprocessing and classification pipeline that can take both BIDS and SNIRF data.\n",
    "\n",
    "- Do a rough comparison of tongue, finger, and leg data.\n",
    "\n",
    "- Experiment with non-MNE "
   ]
  }
 ],
 "metadata": {
  "language_info": {
   "name": "python"
  }
 },
 "nbformat": 4,
 "nbformat_minor": 2
}
