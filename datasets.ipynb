{
 "cells": [
  {
   "cell_type": "markdown",
   "metadata": {},
   "source": [
    "## Datasets"
   ]
  },
  {
   "cell_type": "markdown",
   "metadata": {},
   "source": [
    "- General fNIRS database: https://openfnirs.org/data/\n",
    "\n",
    "- Leg movement: https://data.ru.nl/collections/di/dcn/DSC_62003212_03_066\n",
    "\n",
    "- fNIRS finger tapping in BIDS (usable with MNE): https://zenodo.org/records/6575155"
   ]
  }
 ],
 "metadata": {
  "language_info": {
   "name": "python"
  }
 },
 "nbformat": 4,
 "nbformat_minor": 2
}
